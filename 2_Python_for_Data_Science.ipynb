{
 "cells": [
  {
   "cell_type": "markdown",
   "metadata": {},
   "source": [
    "# Python for Data Science"
   ]
  },
  {
   "cell_type": "markdown",
   "metadata": {},
   "source": [
    "### About this notebook\n",
    "\n",
    "This part of the tutorial focuses on how to leverage vast repository of\n",
    "Python modules to efficiently wrangle, analyze and visualize small and big data. We will mostly focus on NumPy, Pandas and Matplotlib, but also touch on ML libraries and Seaborn."
   ]
  },
  {
   "cell_type": "markdown",
   "metadata": {},
   "source": [
    "***\n",
    "### Modules"
   ]
  },
  {
   "cell_type": "markdown",
   "metadata": {},
   "source": [
    "Modules are what, in my opinion, make Python so good. They provide the needed\n",
    "extensions to the already neat language. Within modules you can find solutions\n",
    " to many of your problems and tasks.\n",
    "\n",
    "Let me introduce few crucial modules, some of them come with Pyton installation, some you have to install on your own.\n",
    "\n",
    "Standard Library (i.e. modules that come with Python):\n",
    "* [os](https://docs.python.org/3/library/os.html) - provides multiple OS interfaces \n",
    "* [re](https://docs.python.org/3/library/re.html?highlight=re#module-re) -module for regular expressions\n",
    "* [math](https://docs.python.org/3/library/math.html) - math operations extension (includes rounding up, calculating factorials and much more)\n",
    "* [statistcs](https://docs.python.org/3/library/statistics.html) - some statistical functions - among others facilitates mode, medians etc. calculations\n",
    "* [random](https://docs.python.org/3/library/random.html?highlight=random#module-random) - *generates pseudo-random numbers*\n",
    "* [collections](https://docs.python.org/3/library/collections.html) - extensions of the basics collections\n",
    "* [itertools](https://docs.python.org/3/library/itertools.html) - great module for various iteration and efficient looping\n",
    "* [multiprocessing](https://docs.python.org/3/library/multiprocessing.html) - module allowing parallel computing\n",
    "* [logging](https://docs.python.org/3/library/logging.html) - module allowing\n",
    " to generate nice and comprehensive messages\n",
    "\n",
    "and much more you can find described [here](https://docs.python.org/3/library/).\n",
    "\n",
    "Other crucial modules, especially for Data Science:\n",
    "\n",
    "* [NumPy](https://www.numpy.org/) - *the fundamental package for scientific computing with Python*\n",
    "* [Pandas](https://pandas.pydata.org/) - *library providing high-performance, easy-to-use data structures and data analysis tools for the Python programming*\n",
    "* [SciPy](https://www.scipy.org/) -  *Python-based ecosystem of open-source software for mathematics, science, and engineering*\n",
    "* [Matplotlib](https://matplotlib.org/) - *2D plotting library which produces publication quality figures*\n",
    "* [Tensorflow](https://www.tensorflow.org/) - *An end-to-end open source machine learning platform*\n",
    "* [Keras](https://keras.io/) - *The Python Deep Learning library*\n",
    "* [scikit-learn](https://scikit-learn.org/stable/) - *Machine Learning in Python*\n",
    "* [Scrapy](https://scrapy.org/) - *An open source and collaborative framework for extracting the data you need from websites. In a fast, simple, yet extensible way.*\n",
    "* [Beautiful Soup](https://www.crummy.com/software/BeautifulSoup/) - module for xml and html parsing\n",
    "\n"
   ]
  },
  {
   "cell_type": "markdown",
   "metadata": {},
   "source": [
    "We can import whole modules by using `import <module_name>` statement. We usually place them at the very beginning of the script in order to specify what modules the following code relies on. We can access the functions can be accessed by preceding the function name with the module name."
   ]
  },
  {
   "cell_type": "code",
   "execution_count": 4,
   "metadata": {},
   "outputs": [
    {
     "name": "stdout",
     "output_type": "stream",
     "text": [
      "3\n"
     ]
    }
   ],
   "source": [
    "import random\n",
    "print(random.randint(1, 19))"
   ]
  },
  {
   "cell_type": "markdown",
   "metadata": {},
   "source": [
    "If we only need some functions from a module, we can load only those by using `from <module_name> import <function>` statement as follows. The functions then can be access without referring to the module name."
   ]
  },
  {
   "cell_type": "code",
   "execution_count": 5,
   "metadata": {},
   "outputs": [
    {
     "name": "stdout",
     "output_type": "stream",
     "text": [
      "3.141592653589793\n",
      "4\n"
     ]
    }
   ],
   "source": [
    "from math import pi, ceil\n",
    "print(pi)\n",
    "print(ceil(pi))"
   ]
  },
  {
   "cell_type": "markdown",
   "metadata": {},
   "source": [
    "In that way we can also load all functions from within the module by using `from <module_name> import *` statement. In this case, we also don't have to proceed the functions names with the module name."
   ]
  },
  {
   "cell_type": "code",
   "execution_count": 6,
   "metadata": {},
   "outputs": [
    {
     "name": "stdout",
     "output_type": "stream",
     "text": [
      "6\n"
     ]
    }
   ],
   "source": [
    "from math import *\n",
    "print(factorial(3))"
   ]
  },
  {
   "cell_type": "markdown",
   "metadata": {},
   "source": [
    "And lastly, we can create an abbreviation for a given module and only proceed the functions with this abbreviation by using `import <module_name> as <module_abbrev>`."
   ]
  },
  {
   "cell_type": "code",
   "execution_count": 7,
   "metadata": {},
   "outputs": [
    {
     "name": "stdout",
     "output_type": "stream",
     "text": [
      "4.0\n"
     ]
    }
   ],
   "source": [
    "import statistics as st\n",
    "print(st.median([1, 3, 5, 7]))"
   ]
  },
  {
   "cell_type": "markdown",
   "metadata": {},
   "source": [
    "***\n",
    "## NumPy\n",
    "\n",
    "Handling scientific computing."
   ]
  },
  {
   "cell_type": "code",
   "execution_count": 8,
   "metadata": {},
   "outputs": [],
   "source": [
    "# Let's load the packages\n",
    "import numpy as np"
   ]
  },
  {
   "cell_type": "markdown",
   "metadata": {},
   "source": [
    "We can create an array by changing a list of elements into an numpy array by calling `np.array()`."
   ]
  },
  {
   "cell_type": "code",
   "execution_count": 9,
   "metadata": {
    "scrolled": true
   },
   "outputs": [
    {
     "data": {
      "text/plain": "[1, 2, 3, 4, 5, 6, 7, 8, 9]"
     },
     "execution_count": 9,
     "metadata": {},
     "output_type": "execute_result"
    }
   ],
   "source": [
    "a_list = [1, 2, 3, 4, 5, 6, 7, 8, 9]\n",
    "A = np.array(a_list)\n",
    "a_list"
   ]
  },
  {
   "cell_type": "code",
   "execution_count": 10,
   "outputs": [
    {
     "data": {
      "text/plain": "array([1, 2, 3, 4, 5, 6, 7, 8, 9])"
     },
     "execution_count": 10,
     "metadata": {},
     "output_type": "execute_result"
    }
   ],
   "source": [
    "A"
   ],
   "metadata": {
    "collapsed": false,
    "pycharm": {
     "name": "#%%\n"
    }
   }
  },
  {
   "cell_type": "markdown",
   "metadata": {},
   "source": [
    "Arrays have shapes. We are more familiar with matrices 1-,2- and\n",
    "3-dimensional. However, they can easily be N-dimensional. This comes in handy\n",
    " especially in Machine Learning. We will not explore tensors in detail, as this\n",
    "  is the beginners guide to `numpy`, but the principles shown below extend to\n",
    "   more complex objects."
   ]
  },
  {
   "cell_type": "code",
   "execution_count": 11,
   "metadata": {},
   "outputs": [
    {
     "name": "stdout",
     "output_type": "stream",
     "text": [
      "(9,)\n"
     ]
    }
   ],
   "source": [
    "print(A.shape)"
   ]
  },
  {
   "cell_type": "markdown",
   "metadata": {},
   "source": [
    "Our array `A` is of a special shape, i.e. it does not have a specific shape. It looks suspiciously similar to the other matrix with the shape 1 x 9."
   ]
  },
  {
   "cell_type": "code",
   "execution_count": 12,
   "metadata": {},
   "outputs": [
    {
     "name": "stdout",
     "output_type": "stream",
     "text": [
      "(1, 9)\n"
     ]
    }
   ],
   "source": [
    "A_reshaped = A.reshape(1, 9)\n",
    "print(A_reshaped.shape)"
   ]
  },
  {
   "cell_type": "code",
   "execution_count": 13,
   "metadata": {},
   "outputs": [
    {
     "data": {
      "text/plain": "array([[1, 2, 3, 4, 5, 6, 7, 8, 9]])"
     },
     "execution_count": 13,
     "metadata": {},
     "output_type": "execute_result"
    }
   ],
   "source": [
    "A_reshaped"
   ]
  },
  {
   "cell_type": "markdown",
   "metadata": {},
   "source": [
    "So, if it looks like a dog, walks like a dog and barks like a dog, then it should be a dog, yes? No, at least not in this case.  Shapes are really important for the arrays. "
   ]
  },
  {
   "cell_type": "code",
   "execution_count": 15,
   "outputs": [
    {
     "data": {
      "text/plain": "array([[ True,  True,  True,  True,  True,  True,  True,  True,  True]])"
     },
     "execution_count": 15,
     "metadata": {},
     "output_type": "execute_result"
    }
   ],
   "source": [
    "A_reshaped == A"
   ],
   "metadata": {
    "collapsed": false,
    "pycharm": {
     "name": "#%%\n"
    }
   }
  },
  {
   "cell_type": "code",
   "execution_count": 16,
   "metadata": {},
   "outputs": [
    {
     "data": {
      "text/plain": "False"
     },
     "execution_count": 16,
     "metadata": {},
     "output_type": "execute_result"
    }
   ],
   "source": [
    "np.array_equal(A, A_reshaped)"
   ]
  },
  {
   "cell_type": "markdown",
   "metadata": {},
   "source": [
    "We can create the matrices from list, and it is quite useful to be able to reshape them."
   ]
  },
  {
   "cell_type": "code",
   "execution_count": 17,
   "metadata": {},
   "outputs": [
    {
     "data": {
      "text/plain": "array([[1, 2, 3],\n       [4, 5, 6],\n       [7, 8, 9]])"
     },
     "execution_count": 17,
     "metadata": {},
     "output_type": "execute_result"
    }
   ],
   "source": [
    "A = A.reshape(3, 3)\n",
    "A"
   ]
  },
  {
   "cell_type": "markdown",
   "metadata": {},
   "source": [
    "We can have a 3D arrays, we can easily just reshape our other matrices."
   ]
  },
  {
   "cell_type": "code",
   "execution_count": 18,
   "metadata": {},
   "outputs": [
    {
     "data": {
      "text/plain": "array([[[1],\n        [2],\n        [3]],\n\n       [[4],\n        [5],\n        [6]],\n\n       [[7],\n        [8],\n        [9]]])"
     },
     "execution_count": 18,
     "metadata": {},
     "output_type": "execute_result"
    }
   ],
   "source": [
    "A = A.reshape(3, 3, 1)\n",
    "A"
   ]
  },
  {
   "cell_type": "markdown",
   "metadata": {},
   "source": [
    "There are special kind of matrices we can create that come in handy when we need to initialize an array that we will later fill with our data. "
   ]
  },
  {
   "cell_type": "markdown",
   "metadata": {},
   "source": [
    "An empty array"
   ]
  },
  {
   "cell_type": "code",
   "execution_count": 20,
   "metadata": {},
   "outputs": [
    {
     "data": {
      "text/plain": "array([[1.3568742e-316, 0.0000000e+000],\n       [0.0000000e+000, 0.0000000e+000]])"
     },
     "execution_count": 20,
     "metadata": {},
     "output_type": "execute_result"
    }
   ],
   "source": [
    "np.empty([2, 2])"
   ]
  },
  {
   "cell_type": "markdown",
   "metadata": {},
   "source": [
    "Array filled with zeros..."
   ]
  },
  {
   "cell_type": "code",
   "execution_count": 19,
   "metadata": {},
   "outputs": [
    {
     "data": {
      "text/plain": "array([[0., 0., 0.],\n       [0., 0., 0.]])"
     },
     "execution_count": 19,
     "metadata": {},
     "output_type": "execute_result"
    }
   ],
   "source": [
    "np.zeros([2, 3])"
   ]
  },
  {
   "cell_type": "markdown",
   "metadata": {},
   "source": [
    "and similarly, an array with ones..."
   ]
  },
  {
   "cell_type": "code",
   "execution_count": 21,
   "metadata": {},
   "outputs": [
    {
     "data": {
      "text/plain": "array([[1., 1., 1., 1., 1.],\n       [1., 1., 1., 1., 1.],\n       [1., 1., 1., 1., 1.]])"
     },
     "execution_count": 21,
     "metadata": {},
     "output_type": "execute_result"
    }
   ],
   "source": [
    "np.ones([3, 5])"
   ]
  },
  {
   "cell_type": "markdown",
   "metadata": {},
   "source": [
    "and other values."
   ]
  },
  {
   "cell_type": "code",
   "execution_count": 22,
   "metadata": {},
   "outputs": [
    {
     "data": {
      "text/plain": "array([[10, 10, 10, 10],\n       [10, 10, 10, 10]])"
     },
     "execution_count": 22,
     "metadata": {},
     "output_type": "execute_result"
    }
   ],
   "source": [
    "np.full([2, 4], 10)"
   ]
  },
  {
   "cell_type": "markdown",
   "metadata": {},
   "source": [
    "An array with the sequence of numbers and so on."
   ]
  },
  {
   "cell_type": "code",
   "execution_count": 23,
   "metadata": {},
   "outputs": [
    {
     "name": "stdout",
     "output_type": "stream",
     "text": [
      "[[ 0  2  4  6  8]\n",
      " [10 12 14 16 18]]\n"
     ]
    }
   ],
   "source": [
    "B = np.arange(0, 20, 2)\n",
    "B = B.reshape((2,5))\n",
    "print(B)"
   ]
  },
  {
   "cell_type": "code",
   "execution_count": 24,
   "metadata": {},
   "outputs": [
    {
     "name": "stdout",
     "output_type": "stream",
     "text": [
      "(2, 5)\n"
     ]
    }
   ],
   "source": [
    "print(B.shape)"
   ]
  },
  {
   "cell_type": "markdown",
   "metadata": {},
   "source": [
    "Numpy allows us to easily perform matrix operations. For example, we might be\n",
    " interested in the sum of all of the array elements."
   ]
  },
  {
   "cell_type": "code",
   "execution_count": 25,
   "metadata": {},
   "outputs": [
    {
     "name": "stdout",
     "output_type": "stream",
     "text": [
      "[[1 2 3]\n",
      " [4 5 6]\n",
      " [7 8 9]]\n"
     ]
    }
   ],
   "source": [
    "M = np.arange(1, 10).reshape(3, 3)\n",
    "print(M)"
   ]
  },
  {
   "cell_type": "code",
   "execution_count": 26,
   "metadata": {},
   "outputs": [
    {
     "data": {
      "text/plain": "45"
     },
     "execution_count": 26,
     "metadata": {},
     "output_type": "execute_result"
    }
   ],
   "source": [
    "np.sum(M)"
   ]
  },
  {
   "cell_type": "markdown",
   "metadata": {},
   "source": [
    "Or, we want to get the column sums."
   ]
  },
  {
   "cell_type": "code",
   "execution_count": 27,
   "metadata": {},
   "outputs": [
    {
     "data": {
      "text/plain": "array([12, 15, 18])"
     },
     "execution_count": 27,
     "metadata": {},
     "output_type": "execute_result"
    }
   ],
   "source": [
    "np.sum(M, axis = 0)"
   ]
  },
  {
   "cell_type": "markdown",
   "metadata": {},
   "source": [
    "We can multiply array by a scalar:"
   ]
  },
  {
   "cell_type": "code",
   "execution_count": 28,
   "metadata": {},
   "outputs": [
    {
     "data": {
      "text/plain": "array([[ 2,  4,  6],\n       [ 8, 10, 12],\n       [14, 16, 18]])"
     },
     "execution_count": 28,
     "metadata": {},
     "output_type": "execute_result"
    }
   ],
   "source": [
    "M * 2"
   ]
  },
  {
   "cell_type": "markdown",
   "metadata": {},
   "source": [
    "add a vector to each row:"
   ]
  },
  {
   "cell_type": "code",
   "execution_count": 29,
   "metadata": {},
   "outputs": [
    {
     "name": "stdout",
     "output_type": "stream",
     "text": [
      "[[1 2 3]\n",
      " [4 5 6]\n",
      " [7 8 9]]\n"
     ]
    }
   ],
   "source": [
    "print(M)"
   ]
  },
  {
   "cell_type": "code",
   "execution_count": 30,
   "metadata": {},
   "outputs": [
    {
     "name": "stdout",
     "output_type": "stream",
     "text": [
      "[[ 2  4  6]\n",
      " [ 5  7  9]\n",
      " [ 8 10 12]]\n"
     ]
    }
   ],
   "source": [
    "v = np.array([[1, 2, 3]])\n",
    "print(M + v)"
   ]
  },
  {
   "cell_type": "markdown",
   "metadata": {},
   "source": [
    "or column:"
   ]
  },
  {
   "cell_type": "code",
   "execution_count": 31,
   "metadata": {},
   "outputs": [
    {
     "name": "stdout",
     "output_type": "stream",
     "text": [
      "[[1 2 3]\n",
      " [4 5 6]\n",
      " [7 8 9]]\n"
     ]
    }
   ],
   "source": [
    "print(M)"
   ]
  },
  {
   "cell_type": "code",
   "execution_count": 32,
   "metadata": {},
   "outputs": [
    {
     "name": "stdout",
     "output_type": "stream",
     "text": [
      "[[ 2  3  4]\n",
      " [ 6  7  8]\n",
      " [10 11 12]]\n"
     ]
    }
   ],
   "source": [
    "vec = np.array([[1, 2, 3]]).transpose()\n",
    "print(M + vec)"
   ]
  },
  {
   "cell_type": "markdown",
   "metadata": {},
   "source": [
    "More complex example - assume we want to multiply matrices."
   ]
  },
  {
   "cell_type": "markdown",
   "metadata": {},
   "source": [
    "We want to solve the following system of equations.\n",
    "$$ A x = b $$\n",
    "Where:\n",
    "$$ A = \\begin{bmatrix} 1 & 1 & 0 \\\\ 4 & 6 & 1 \\\\ -2 & 2 & 0 \\\\ \\end{bmatrix}, x = \\begin{bmatrix} x_1 & x_2 & x_3 \\\\ \\end{bmatrix}^T, b = \\begin{bmatrix} 1 & 2 & 3 \\\\ \\end{bmatrix}^T $$\n",
    "\n",
    "Suppose, using matrix elimination we got to:\n",
    "\n",
    "$$U = EA$$"
   ]
  },
  {
   "cell_type": "code",
   "execution_count": 28,
   "metadata": {},
   "outputs": [],
   "source": [
    "A = np.array([[1, 1, 0], [4, 6, 1], [-2, 2, 0]]) # initial matrix\n",
    "E = np.array([[1, 0, 0], [-4, 1, 0], [10, -2, 1]]) # elimination matrix\n",
    "b = np.array([[1], [2], [3]])"
   ]
  },
  {
   "cell_type": "code",
   "execution_count": 29,
   "metadata": {},
   "outputs": [
    {
     "data": {
      "text/plain": "array([[ 1,  1,  0],\n       [ 0,  2,  1],\n       [ 0,  0, -2]])"
     },
     "execution_count": 29,
     "metadata": {},
     "output_type": "execute_result"
    }
   ],
   "source": [
    "U = np.matmul(E, A) # matrix multiplication\n",
    "U"
   ]
  },
  {
   "cell_type": "code",
   "execution_count": 30,
   "metadata": {},
   "outputs": [
    {
     "data": {
      "text/plain": "array([[ 1],\n       [-2],\n       [ 9]])"
     },
     "execution_count": 30,
     "metadata": {},
     "output_type": "execute_result"
    }
   ],
   "source": [
    "Eb = np.matmul(E, b)\n",
    "Eb"
   ]
  },
  {
   "cell_type": "code",
   "execution_count": 31,
   "metadata": {},
   "outputs": [
    {
     "data": {
      "text/plain": "(-0.25, 1.25, -4.5)"
     },
     "execution_count": 31,
     "metadata": {},
     "output_type": "execute_result"
    }
   ],
   "source": [
    "x3 = 9 / -2\n",
    "x2 = (-2 - x3)/2\n",
    "x1 = 1 - x2\n",
    "\n",
    "x1, x2, x3"
   ]
  },
  {
   "cell_type": "markdown",
   "metadata": {},
   "source": [
    "***"
   ]
  },
  {
   "cell_type": "markdown",
   "metadata": {},
   "source": [
    "**Exercise**\n",
    "Given:\n",
    "$$ A = \\begin{bmatrix} 1 & 1 & 0 \\\\ 4 & 6 & 1 \\\\ -2 & 2 & 0 \\\\ \\end{bmatrix}, B = \\begin{bmatrix} -1 & -2 & -3 \\\\ -4 & -5 & -6 \\\\ \\end{bmatrix}, C = \\begin{bmatrix} 5 & 10 & 15 \\\\ 20 & 25 & 30 \\\\ 35 & 40 & 45 \\\\ \\end{bmatrix} $$    \n",
    "\n",
    "* create those arrays; "
   ]
  },
  {
   "cell_type": "code",
   "execution_count": 32,
   "metadata": {},
   "outputs": [],
   "source": [
    "# your code here :) \n",
    "# A =\n",
    "# B =\n",
    "# C ="
   ]
  },
  {
   "cell_type": "markdown",
   "metadata": {},
   "source": [
    "* add A and C;"
   ]
  },
  {
   "cell_type": "code",
   "execution_count": 33,
   "metadata": {},
   "outputs": [],
   "source": [
    "# your code here :) \n"
   ]
  },
  {
   "cell_type": "markdown",
   "metadata": {},
   "source": [
    "* multiply B by A; "
   ]
  },
  {
   "cell_type": "code",
   "execution_count": 34,
   "metadata": {},
   "outputs": [],
   "source": [
    "# your code here :) \n"
   ]
  },
  {
   "cell_type": "markdown",
   "metadata": {},
   "source": [
    "* multiply 3rd column of A by second row of B"
   ]
  },
  {
   "cell_type": "code",
   "execution_count": 35,
   "metadata": {},
   "outputs": [],
   "source": [
    "# your code here :) "
   ]
  },
  {
   "cell_type": "markdown",
   "source": [
    "***\n",
    "\n",
    "## Pandas\n",
    "\n",
    "Working with data most often than not means working with tables of all sorts. "
   ],
   "metadata": {
    "collapsed": false
   }
  },
  {
   "cell_type": "markdown",
   "source": [
    "`Pandas` is a module that allows for data frame manipulation. It resembles the `R data.frame` & `dplyr` handling."
   ],
   "metadata": {
    "collapsed": false
   }
  },
  {
   "cell_type": "markdown",
   "source": [
    "We will get to explore only the top of the iceberg of the capabilities of the `pandas` module. More about the `numpy`, `pandas` and data science with Python can be found [here - in the Python Data Science Handbook](https://jakevdp.github.io/PythonDataScienceHandbook/index.html)."
   ],
   "metadata": {
    "collapsed": false
   }
  },
  {
   "cell_type": "markdown",
   "source": [
    "To explore the capabilities of the library we will use the penguins data set. It carries information about 3 species of penguins. Data was collected and made available by [Dr. Kristen Gorman](https://www.uaf.edu/cfos/people/faculty/detail/kristen-gorman.php) and the [Palmer Station, Antarctica LTER](https://pal.lternet.edu/), a member of the [Long Term Ecological Research Network](https://lternet.edu/).\n",
    "\n",
    "<a href=\"https://github.com/allisonhorst/palmerpenguins\"><img src=\"figures/lter_penguins.png\" alt=\"Penguin species\" style=\"width: 600px;\"/></a>\n",
    "\n",
    "Artwork by [@allison_horst](https://twitter.com/allison_horst)\n",
    "\n",
    "Among others, it contains information about the penguins' culmens, their body mass and others."
   ],
   "metadata": {
    "collapsed": false
   }
  },
  {
   "cell_type": "markdown",
   "source": [
    "<a href=\"https://github.com/allisonhorst/palmerpenguins\"><img src=\"figures/culmen_depth.png\" alt=\"Penguin culmen\" style=\"width: 600px;\"/></a>\n",
    "\n",
    "Artwork by [@allison_horst](https://twitter.com/allison_horst)"
   ],
   "metadata": {
    "collapsed": false
   }
  },
  {
   "cell_type": "code",
   "execution_count": null,
   "outputs": [],
   "source": [
    "import pandas as pd\n",
    "# penguins_raw.csv as downloaded from:\n",
    "# https://raw.githubusercontent.com/allisonhorst/palmerpenguins/9e1a7937e257ade8e4dc1764028e55cd7efe2cf5/data-raw/penguins_raw.csv\n",
    "penguins_df = pd.read_csv(\"./data/penguins_raw.csv\")\n",
    "penguins_df.head()"
   ],
   "metadata": {
    "collapsed": false,
    "pycharm": {
     "name": "#%%\n"
    }
   }
  },
  {
   "cell_type": "markdown",
   "source": [
    "If we want to know more about the dataset we can call describe function that\n",
    "will tell us more about what we have in the data frame. It's much easier to\n",
    "go through a summary than through the whole data."
   ],
   "metadata": {
    "collapsed": false
   }
  },
  {
   "cell_type": "code",
   "execution_count": null,
   "outputs": [],
   "source": [
    "penguins_df.describe()"
   ],
   "metadata": {
    "collapsed": false,
    "pycharm": {
     "name": "#%%\n"
    }
   }
  },
  {
   "cell_type": "markdown",
   "source": [
    "Let's imagine we want to calculate mean of all parameters within the Species. We can do that by calling `groupby` function."
   ],
   "metadata": {
    "collapsed": false
   }
  },
  {
   "cell_type": "code",
   "execution_count": null,
   "outputs": [],
   "source": [
    "penguins_df.groupby(['Species']).mean()"
   ],
   "metadata": {
    "collapsed": false,
    "pycharm": {
     "name": "#%%\n"
    }
   }
  },
  {
   "cell_type": "code",
   "execution_count": null,
   "outputs": [],
   "source": [
    "fig, ax = plt.subplots(figsize = (10, 8))\n",
    "plt.suptitle('')\n",
    "penguins_df.boxplot(column = ['Flipper Length (mm)'],\n",
    "                    by = 'Species', ax = ax)"
   ],
   "metadata": {
    "collapsed": false,
    "pycharm": {
     "name": "#%%\n"
    }
   }
  },
  {
   "cell_type": "markdown",
   "source": [
    "Showing plotting with `matplotlib` is a bit unfair to Python, especially when `seaborn` module is easily available. There are a lot of things simplified and easily accessible with the library. It still, in my opinion, is not close enough to what `ggplot2` does and allows to do in `R` though.\n",
    "\n",
    "It does allow to make visually nice plots, and is worth exploring when\n",
    "working with Python. More about [seaborn here](https://seaborn.pydata.org/)."
   ],
   "metadata": {
    "collapsed": false
   }
  },
  {
   "cell_type": "code",
   "execution_count": null,
   "outputs": [],
   "source": [
    "import seaborn as sns"
   ],
   "metadata": {
    "collapsed": false,
    "pycharm": {
     "name": "#%%\n"
    }
   }
  },
  {
   "cell_type": "code",
   "execution_count": null,
   "outputs": [],
   "source": [
    "sns.set_style(\"white\")\n",
    "sns.pairplot(penguins_df, hue = 'Species')"
   ],
   "metadata": {
    "collapsed": false,
    "pycharm": {
     "name": "#%%\n"
    }
   }
  },
  {
   "cell_type": "markdown",
   "metadata": {},
   "source": [
    "***\n",
    "## Matplotlib"
   ]
  },
  {
   "cell_type": "markdown",
   "metadata": {},
   "source": [
    "`Matplotlib` is a Python module to create plots. By series of commands we create a figure, add labels and modify it. Below, we create a simple plot with a line."
   ]
  },
  {
   "cell_type": "code",
   "execution_count": 34,
   "metadata": {},
   "outputs": [
    {
     "data": {
      "text/plain": "<module 'matplotlib.pyplot' from '/home/kzkedzierska/PycharmProjects/ngs19_python_intro/venv/lib/python3.8/site-packages/matplotlib/pyplot.py'>"
     },
     "execution_count": 34,
     "metadata": {},
     "output_type": "execute_result"
    },
    {
     "data": {
      "text/plain": "<Figure size 432x288 with 1 Axes>",
      "image/png": "[encoded data removed]"
     },
     "metadata": {},
     "output_type": "display_data"
    }
   ],
   "source": [
    "import matplotlib.pyplot as plt\n",
    "plt.rcParams[\"figure.facecolor\"] = \"w\"\n",
    "plt.plot(range(1, 10))\n",
    "plt.ylabel('Y axis label')\n",
    "plt.xlabel('X axis label')\n",
    "plt"
   ]
  },
  {
   "cell_type": "markdown",
   "metadata": {},
   "source": [
    "In general, the `plot()` function has 3 arguments: `x`, `y` and `shape` for every series. \n",
    "\n",
    "**Line types**:\n",
    "\n",
    "character | description\n",
    ":---: | ---\n",
    "'-' | solid line style\n",
    "'--' | dashed line style\n",
    "'-.' |\tdash-dot line style\n",
    "':'\t| dotted line style\n",
    "'.' | point marker\n",
    "','\t| pixel marker\n",
    "'o'\t| circle marker\n",
    "'v'\t| triangle_down marker\n",
    "'*'\t| star marker\n",
    "'h'\t| hexagon1 marker\n",
    "'x'\t| x marker\n",
    "'D'\t| diamond marker\n",
    "'\\|'\t| vline marker\n",
    "'_'\t| hline marker\n",
    "\n",
    "**Colors**:\n",
    "\n",
    "character | color\n",
    ":---: | ---\n",
    "‘b’ | blue\n",
    "‘g’\t| green\n",
    "‘r’\t| red\n",
    "‘c’\t| cyan\n",
    "‘m’\t| magenta\n",
    "‘y’\t| yellow\n",
    "‘k’\t| black\n",
    "‘w’\t| white\n",
    "\n",
    "More examples of matplotlib plots [here](https://matplotlib\n",
    ".org/tutorials/introductory/pyplot.html)."
   ]
  },
  {
   "cell_type": "code",
   "execution_count": 35,
   "metadata": {},
   "outputs": [
    {
     "data": {
      "text/plain": "[<matplotlib.lines.Line2D at 0x7f80c91fe460>]"
     },
     "execution_count": 35,
     "metadata": {},
     "output_type": "execute_result"
    },
    {
     "data": {
      "text/plain": "<Figure size 432x288 with 1 Axes>",
      "image/png": "[encoded data removed]"
     },
     "metadata": {},
     "output_type": "display_data"
    }
   ],
   "source": [
    "x = np.arange(0, 10, 1)\n",
    "y = np.arange(0, 20, 2)\n",
    "\n",
    "plt.plot(x, y, 'r-')"
   ]
  },
  {
   "cell_type": "markdown",
   "metadata": {},
   "source": [
    "Now, let's do something a bit more complex. "
   ]
  },
  {
   "cell_type": "markdown",
   "metadata": {},
   "source": [
    "**Exercise:**\n",
    "Given a vector t (`t = np.arange(0, 12, 0.5)` )  create a plot\n",
    " with 3 series: $y_1 = 10t$, $y_2 = t^2$ and $y_3 = -10$ times the reminder of $t$ divided by 3. With 3 different styles: green triangles, red dashed line and blue squares."
   ]
  },
  {
   "cell_type": "code",
   "execution_count": 38,
   "metadata": {},
   "outputs": [],
   "source": [
    "# your code here :) \n"
   ]
  },
  {
   "cell_type": "markdown",
   "metadata": {},
   "source": [
    "***\n",
    "## SciPy"
   ]
  },
  {
   "cell_type": "markdown",
   "metadata": {},
   "source": [
    "`SciPy`  is a Python-based ecosystem of open-source software for mathematics, science, and engineering. For example, it provides useful statistical functions. One of them is MannWhitney U test - a non parametric test allowing to check the difference between the two distributions, series."
   ]
  },
  {
   "cell_type": "code",
   "execution_count": 36,
   "metadata": {},
   "outputs": [],
   "source": [
    "from scipy.stats import mannwhitneyu\n",
    "A = np.random.normal(0, 3, 20)\n",
    "B = np.random.normal(-2, 5, 30)"
   ]
  },
  {
   "cell_type": "markdown",
   "metadata": {},
   "source": [
    "Let's visualise what we have in those two sets."
   ]
  },
  {
   "cell_type": "code",
   "execution_count": 37,
   "metadata": {},
   "outputs": [
    {
     "name": "stderr",
     "output_type": "stream",
     "text": [
      "/home/kzkedzierska/PycharmProjects/ngs19_python_intro/venv/lib/python3.8/site-packages/numpy/core/_asarray.py:83: VisibleDeprecationWarning: Creating an ndarray from ragged nested sequences (which is a list-or-tuple of lists-or-tuples-or ndarrays with different lengths or shapes) is deprecated. If you meant to do this, you must specify 'dtype=object' when creating the ndarray\n",
      "  return array(a, dtype, copy=False, order=order)\n"
     ]
    },
    {
     "data": {
      "text/plain": "{'whiskers': [<matplotlib.lines.Line2D at 0x7f80abd77bb0>,\n  <matplotlib.lines.Line2D at 0x7f80abd77f10>,\n  <matplotlib.lines.Line2D at 0x7f80abd12400>,\n  <matplotlib.lines.Line2D at 0x7f80abd12790>],\n 'caps': [<matplotlib.lines.Line2D at 0x7f80abd872b0>,\n  <matplotlib.lines.Line2D at 0x7f80abd87610>,\n  <matplotlib.lines.Line2D at 0x7f80abd12af0>,\n  <matplotlib.lines.Line2D at 0x7f80abd12e50>],\n 'boxes': [<matplotlib.lines.Line2D at 0x7f80abd77850>,\n  <matplotlib.lines.Line2D at 0x7f80abd120a0>],\n 'medians': [<matplotlib.lines.Line2D at 0x7f80abd87970>,\n  <matplotlib.lines.Line2D at 0x7f80abd1d1f0>],\n 'fliers': [<matplotlib.lines.Line2D at 0x7f80abd87c70>,\n  <matplotlib.lines.Line2D at 0x7f80abd1d4f0>],\n 'means': []}"
     },
     "execution_count": 37,
     "metadata": {},
     "output_type": "execute_result"
    },
    {
     "data": {
      "text/plain": "<Figure size 432x288 with 1 Axes>",
      "image/png": "[encoded data removed]"
     },
     "metadata": {},
     "output_type": "display_data"
    }
   ],
   "source": [
    "plt.boxplot((A, B))"
   ]
  },
  {
   "cell_type": "code",
   "execution_count": 41,
   "metadata": {
    "pycharm": {
     "name": "#%%\n"
    }
   },
   "outputs": [
    {
     "data": {
      "text/plain": "MannwhitneyuResult(statistic=238.0, pvalue=0.11163450789513951)"
     },
     "execution_count": 41,
     "metadata": {},
     "output_type": "execute_result"
    }
   ],
   "source": [
    "mannwhitneyu(A, B)\n"
   ]
  }
 ],
 "metadata": {
  "kernelspec": {
   "display_name": "Python 3",
   "language": "python",
   "name": "python3"
  },
  "language_info": {
   "codemirror_mode": {
    "name": "ipython",
    "version": 3
   },
   "file_extension": ".py",
   "mimetype": "text/x-python",
   "name": "python",
   "nbconvert_exporter": "python",
   "pygments_lexer": "ipython3",
   "version": "3.8.3"
  }
 },
 "nbformat": 4,
 "nbformat_minor": 4
}